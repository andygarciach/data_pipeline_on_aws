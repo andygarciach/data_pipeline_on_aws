{
 "cells": [
  {
   "cell_type": "code",
   "execution_count": 6,
   "id": "4dab6fc3-71c8-40aa-ba99-027e8fa99fca",
   "metadata": {},
   "outputs": [
    {
     "data": {
      "text/plain": [
       "{'ResponseMetadata': {'RequestId': 'VSAD2H711Z4BM9WK',\n",
       "  'HostId': 'eL/hXWfZqCAHyE2/Q8WXWMEc4QvM2o4WK9CBMJTyTHiynShZDgN1g75JGxVg9LBGvuYrIteSfnk=',\n",
       "  'HTTPStatusCode': 200,\n",
       "  'HTTPHeaders': {'x-amz-id-2': 'eL/hXWfZqCAHyE2/Q8WXWMEc4QvM2o4WK9CBMJTyTHiynShZDgN1g75JGxVg9LBGvuYrIteSfnk=',\n",
       "   'x-amz-request-id': 'VSAD2H711Z4BM9WK',\n",
       "   'date': 'Sat, 19 Aug 2023 03:40:35 GMT',\n",
       "   'x-amz-server-side-encryption': 'AES256',\n",
       "   'etag': '\"f2c67d59f4815ea08ba579ed1bc879fd\"',\n",
       "   'server': 'AmazonS3',\n",
       "   'content-length': '0'},\n",
       "  'RetryAttempts': 0},\n",
       " 'ETag': '\"f2c67d59f4815ea08ba579ed1bc879fd\"',\n",
       " 'ServerSideEncryption': 'AES256'}"
      ]
     },
     "execution_count": 6,
     "metadata": {},
     "output_type": "execute_result"
    }
   ],
   "source": [
    "import boto3, os\n",
    "from botocore.errorfactory import ClientError\n",
    "\n",
    "os.environ.setdefault('AWS_PROFILE', 'itvgithub')\n",
    "\n",
    "s3_client = boto3.client('s3')\n",
    "\n",
    "bookmark_contents = '2021-01-30-0.json.gz'\n",
    "\n",
    "s3_client.put_object(\n",
    "    Bucket='gh-data-project',\n",
    "    Key='bronze/bookmark',\n",
    "    Body=bookmark_contents.encode('utf-8')\n",
    ")"
   ]
  },
  {
   "cell_type": "code",
   "execution_count": 9,
   "id": "b2249b81-75ba-485a-9465-47e40cdab8e2",
   "metadata": {},
   "outputs": [
    {
     "name": "stdout",
     "output_type": "stream",
     "text": [
      "2021-01-30-0.json.gz\n"
     ]
    }
   ],
   "source": [
    "try:\n",
    "    bookmark_file = s3_client.get_object(\n",
    "        Bucket='gh-data-project',\n",
    "        Key='bronze/bookmark'\n",
    "    )\n",
    "    print(bookmark_file['Body'].read().decode('utf-8'))\n",
    "except ClientError as e:\n",
    "    pass\n",
    "    ##if e.response['Error']['Code'] == 'NoSuchKey':\n",
    "        "
   ]
  },
  {
   "cell_type": "code",
   "execution_count": null,
   "id": "3a099590-35a7-4353-bf41-fcce246a05f4",
   "metadata": {},
   "outputs": [],
   "source": []
  }
 ],
 "metadata": {
  "kernelspec": {
   "display_name": "Python 3 (ipykernel)",
   "language": "python",
   "name": "python3"
  },
  "language_info": {
   "codemirror_mode": {
    "name": "ipython",
    "version": 3
   },
   "file_extension": ".py",
   "mimetype": "text/x-python",
   "name": "python",
   "nbconvert_exporter": "python",
   "pygments_lexer": "ipython3",
   "version": "3.10.6"
  }
 },
 "nbformat": 4,
 "nbformat_minor": 5
}
