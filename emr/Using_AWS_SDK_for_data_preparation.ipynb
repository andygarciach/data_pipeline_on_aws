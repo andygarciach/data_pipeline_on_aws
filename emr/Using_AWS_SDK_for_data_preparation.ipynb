{
 "cells": [
  {
   "cell_type": "code",
   "execution_count": 8,
   "id": "e7517c77-4c2c-4435-8bb8-be7243eefb82",
   "metadata": {},
   "outputs": [],
   "source": [
    "### Deploying code into bucket"
   ]
  },
  {
   "cell_type": "code",
   "execution_count": 41,
   "id": "56edb429-5e40-4f6b-8c41-4edcf1591a28",
   "metadata": {},
   "outputs": [
    {
     "name": "stdout",
     "output_type": "stream",
     "text": [
      "upload: ./main.py to s3://gh-data-project/emr-code            \n",
      "upload: ./env.sh to s3://gh-data-project/emr-code                   \n"
     ]
    }
   ],
   "source": [
    "%%sh\n",
    "\n",
    "aws s3 cp main.py s3://gh-data-project/emr-code --profile itvgithub\n",
    "aws s3 cp env.sh s3://gh-data-project/emr-code --profile itvgithub"
   ]
  },
  {
   "cell_type": "code",
   "execution_count": null,
   "id": "99508776-bce9-4b3a-80b4-d0cb8ddd563e",
   "metadata": {},
   "outputs": [],
   "source": [
    "## Defining a connection with a trust host - Run following scripts in local environment"
   ]
  },
  {
   "cell_type": "code",
   "execution_count": null,
   "id": "a11960ce-99d5-49f6-bd29-3b081d61c645",
   "metadata": {},
   "outputs": [],
   "source": [
    "%%sh\n",
    "\n",
    "export emr_cluster=hadoop@ec2-54-226-63-139.compute-1.amazonaws.com\n",
    "cd\n",
    "cd .ssh\n",
    "ssh -i itvlivedemos.pem $emr_cluster"
   ]
  },
  {
   "cell_type": "code",
   "execution_count": null,
   "id": "caa17507-d8cc-4b33-bbca-321e338724c1",
   "metadata": {},
   "outputs": [],
   "source": [
    "### Deploying code and dependencies in an existing cluster - Run following cell to \n",
    "mkdir jar\n"
   ]
  },
  {
   "cell_type": "code",
   "execution_count": 53,
   "id": "fca699cb-30a5-46f3-9f8b-ebdbee084d84",
   "metadata": {},
   "outputs": [],
   "source": [
    "%%sh\n",
    "\n",
    "export emr_cluster=hadoop@ec2-3-84-235-9.compute-1.amazonaws.com\n",
    "cd\n",
    "cd .ssh\n",
    "scp -i itvlivedemos.pem /mnt/c/Users/Andy_Garcia/Documents/GitHub/data_pipeline_on_aws/emr/main.py $emr_cluster:.\n",
    "scp -i itvlivedemos.pem /mnt/c/Users/Andy_Garcia/Documents/GitHub/data_pipeline_on_aws/emr/env.sh $emr_cluster:.\n",
    "scp -i itvlivedemos.pem /mnt/c/Users/Andy_Garcia/Documents/GitHub/data_pipeline_on_aws/emr/jar/hadoop-aws-3.3.6.jar $emr_cluster:./jar"
   ]
  },
  {
   "cell_type": "code",
   "execution_count": null,
   "id": "378676bd-4c42-49ce-b3e0-976e2b3008d0",
   "metadata": {},
   "outputs": [],
   "source": [
    "## Run spark-submmit - Run following scripts in master node\n",
    ". ./env.sh\n",
    "export ENVIRON=PROD\n",
    "spark-submit --master yarn --jars ./jar/hadoop-aws-3.3.6.jar --py-files main.py main.py"
   ]
  }
 ],
 "metadata": {
  "kernelspec": {
   "display_name": "Python 3 (ipykernel)",
   "language": "python",
   "name": "python3"
  },
  "language_info": {
   "codemirror_mode": {
    "name": "ipython",
    "version": 3
   },
   "file_extension": ".py",
   "mimetype": "text/x-python",
   "name": "python",
   "nbconvert_exporter": "python",
   "pygments_lexer": "ipython3",
   "version": "3.10.6"
  }
 },
 "nbformat": 4,
 "nbformat_minor": 5
}
