{
 "cells": [
  {
   "cell_type": "code",
   "execution_count": null,
   "id": "99508776-bce9-4b3a-80b4-d0cb8ddd563e",
   "metadata": {},
   "outputs": [],
   "source": [
    "## Defining a connection with a trust host - Run following scripts in local environment"
   ]
  },
  {
   "cell_type": "code",
   "execution_count": null,
   "id": "a11960ce-99d5-49f6-bd29-3b081d61c645",
   "metadata": {},
   "outputs": [],
   "source": [
    "%%sh\n",
    "\n",
    "export emr_cluster=hadoop@ec2-54-226-63-139.compute-1.amazonaws.com\n",
    "cd\n",
    "cd .ssh\n",
    "ssh -i itvlivedemos.pem $emr_cluster"
   ]
  },
  {
   "cell_type": "code",
   "execution_count": null,
   "id": "caa17507-d8cc-4b33-bbca-321e338724c1",
   "metadata": {},
   "outputs": [],
   "source": [
    "### Deploying code and dependencies in an existing cluster - Run following cell to \n",
    "mkdir jar\n"
   ]
  },
  {
   "cell_type": "code",
   "execution_count": 101,
   "id": "fca699cb-30a5-46f3-9f8b-ebdbee084d84",
   "metadata": {},
   "outputs": [],
   "source": [
    "%%sh\n",
    "\n",
    "export emr_cluster=hadoop@ec2-3-83-148-149.compute-1.amazonaws.com\n",
    "cd\n",
    "cd .ssh\n",
    "scp -i itvlivedemos.pem /mnt/c/Users/Andy_Garcia/Documents/GitHub/data_pipeline_on_aws/emr/main.py $emr_cluster:.\n",
    "scp -i itvlivedemos.pem /mnt/c/Users/Andy_Garcia/Documents/GitHub/data_pipeline_on_aws/emr/env.sh $emr_cluster:.\n",
    "scp -i itvlivedemos.pem /mnt/c/Users/Andy_Garcia/Documents/GitHub/data_pipeline_on_aws/emr/jar/hadoop-aws-3.3.6.jar $emr_cluster:./jar"
   ]
  },
  {
   "cell_type": "code",
   "execution_count": null,
   "id": "378676bd-4c42-49ce-b3e0-976e2b3008d0",
   "metadata": {},
   "outputs": [],
   "source": [
    "## Run spark-submmit - Run following scripts in master node\n",
    ". ./env.sh\n",
    "export ENVIRON=PROD\n",
    "spark-submit --master yarn --jars ./jar/hadoop-aws-3.3.6.jar --py-files main.py main.py"
   ]
  },
  {
   "cell_type": "code",
   "execution_count": 118,
   "id": "bb026cda-725e-44f2-acd7-3e353907f4ed",
   "metadata": {},
   "outputs": [
    {
     "name": "stdout",
     "output_type": "stream",
     "text": [
      "2023-08-20 12:17:25          0 _SUCCESS\n",
      "2023-08-20 12:17:23  163952056 part-00000-8c0c8d3c-5949-4db2-b580-0541a71a1d30-c000.snappy.parquet\n",
      "2023-08-20 12:17:19  136934052 part-00001-8c0c8d3c-5949-4db2-b580-0541a71a1d30-c000.snappy.parquet\n",
      "2023-08-20 12:17:17  133253569 part-00002-8c0c8d3c-5949-4db2-b580-0541a71a1d30-c000.snappy.parquet\n",
      "2023-08-20 12:17:17  133351724 part-00003-8c0c8d3c-5949-4db2-b580-0541a71a1d30-c000.snappy.parquet\n",
      "2023-08-20 12:17:17  126310302 part-00004-8c0c8d3c-5949-4db2-b580-0541a71a1d30-c000.snappy.parquet\n",
      "2023-08-20 12:17:14  123186936 part-00005-8c0c8d3c-5949-4db2-b580-0541a71a1d30-c000.snappy.parquet\n",
      "2023-08-20 12:17:13  122125052 part-00006-8c0c8d3c-5949-4db2-b580-0541a71a1d30-c000.snappy.parquet\n",
      "2023-08-20 12:17:12  121382240 part-00007-8c0c8d3c-5949-4db2-b580-0541a71a1d30-c000.snappy.parquet\n",
      "2023-08-20 12:17:06  108968111 part-00008-8c0c8d3c-5949-4db2-b580-0541a71a1d30-c000.snappy.parquet\n",
      "2023-08-20 12:17:04  107278622 part-00009-8c0c8d3c-5949-4db2-b580-0541a71a1d30-c000.snappy.parquet\n",
      "2023-08-20 12:16:58  102362387 part-00010-8c0c8d3c-5949-4db2-b580-0541a71a1d30-c000.snappy.parquet\n",
      "2023-08-20 12:16:43   90958049 part-00011-8c0c8d3c-5949-4db2-b580-0541a71a1d30-c000.snappy.parquet\n",
      "2023-08-20 12:16:29   77972464 part-00012-8c0c8d3c-5949-4db2-b580-0541a71a1d30-c000.snappy.parquet\n",
      "2023-08-20 12:16:21   77809705 part-00013-8c0c8d3c-5949-4db2-b580-0541a71a1d30-c000.snappy.parquet\n",
      "2023-08-20 12:16:15   72375138 part-00014-8c0c8d3c-5949-4db2-b580-0541a71a1d30-c000.snappy.parquet\n",
      "2023-08-20 12:16:15   69437274 part-00015-8c0c8d3c-5949-4db2-b580-0541a71a1d30-c000.snappy.parquet\n",
      "2023-08-20 12:16:07   66599942 part-00016-8c0c8d3c-5949-4db2-b580-0541a71a1d30-c000.snappy.parquet\n",
      "2023-08-20 12:15:58   63369940 part-00017-8c0c8d3c-5949-4db2-b580-0541a71a1d30-c000.snappy.parquet\n",
      "2023-08-20 12:15:56   61579796 part-00018-8c0c8d3c-5949-4db2-b580-0541a71a1d30-c000.snappy.parquet\n",
      "2023-08-20 12:15:59   60067606 part-00019-8c0c8d3c-5949-4db2-b580-0541a71a1d30-c000.snappy.parquet\n",
      "2023-08-20 12:15:45   55057927 part-00020-8c0c8d3c-5949-4db2-b580-0541a71a1d30-c000.snappy.parquet\n",
      "2023-08-20 12:15:43   56629499 part-00021-8c0c8d3c-5949-4db2-b580-0541a71a1d30-c000.snappy.parquet\n",
      "2023-08-20 12:15:39   52934203 part-00022-8c0c8d3c-5949-4db2-b580-0541a71a1d30-c000.snappy.parquet\n",
      "2023-08-20 12:15:40   53813902 part-00023-8c0c8d3c-5949-4db2-b580-0541a71a1d30-c000.snappy.parquet\n",
      "2023-08-20 12:15:33   50456610 part-00024-8c0c8d3c-5949-4db2-b580-0541a71a1d30-c000.snappy.parquet\n",
      "2023-08-20 12:15:32   48703980 part-00025-8c0c8d3c-5949-4db2-b580-0541a71a1d30-c000.snappy.parquet\n",
      "2023-08-20 12:15:31   46751788 part-00026-8c0c8d3c-5949-4db2-b580-0541a71a1d30-c000.snappy.parquet\n",
      "2023-08-20 12:15:31   47117306 part-00027-8c0c8d3c-5949-4db2-b580-0541a71a1d30-c000.snappy.parquet\n"
     ]
    }
   ],
   "source": [
    "%%sh\n",
    "\n",
    "aws s3 ls s3://gh-data-project/silver/ --profile itvgithub"
   ]
  },
  {
   "cell_type": "code",
   "execution_count": 119,
   "id": "b6537584-e0be-46aa-898c-3578870543da",
   "metadata": {},
   "outputs": [
    {
     "name": "stdout",
     "output_type": "stream",
     "text": [
      "2023-08-20 12:17:50          0 _SUCCESS\n",
      "2023-08-20 12:17:30       1652 part-00000-99c4820d-f409-4cd1-a3b1-841bb9618b60-c000.snappy.parquet\n",
      "2023-08-20 12:17:48   19905369 part-00001-99c4820d-f409-4cd1-a3b1-841bb9618b60-c000.snappy.parquet\n",
      "2023-08-20 12:17:49   24085279 part-00002-99c4820d-f409-4cd1-a3b1-841bb9618b60-c000.snappy.parquet\n",
      "2023-08-20 12:17:49   23191950 part-00003-99c4820d-f409-4cd1-a3b1-841bb9618b60-c000.snappy.parquet\n",
      "2023-08-20 12:17:49   23635733 part-00004-99c4820d-f409-4cd1-a3b1-841bb9618b60-c000.snappy.parquet\n",
      "2023-08-20 12:17:48   22148366 part-00005-99c4820d-f409-4cd1-a3b1-841bb9618b60-c000.snappy.parquet\n",
      "2023-08-20 12:17:48   20456723 part-00006-99c4820d-f409-4cd1-a3b1-841bb9618b60-c000.snappy.parquet\n",
      "2023-08-20 12:17:48   21321541 part-00007-99c4820d-f409-4cd1-a3b1-841bb9618b60-c000.snappy.parquet\n",
      "2023-08-20 12:17:49   21074402 part-00008-99c4820d-f409-4cd1-a3b1-841bb9618b60-c000.snappy.parquet\n",
      "2023-08-20 12:17:48   19242507 part-00009-99c4820d-f409-4cd1-a3b1-841bb9618b60-c000.snappy.parquet\n",
      "2023-08-20 12:17:48   19509159 part-00010-99c4820d-f409-4cd1-a3b1-841bb9618b60-c000.snappy.parquet\n",
      "2023-08-20 12:17:47   17668436 part-00011-99c4820d-f409-4cd1-a3b1-841bb9618b60-c000.snappy.parquet\n",
      "2023-08-20 12:17:47   16979818 part-00012-99c4820d-f409-4cd1-a3b1-841bb9618b60-c000.snappy.parquet\n",
      "2023-08-20 12:17:47   15218594 part-00013-99c4820d-f409-4cd1-a3b1-841bb9618b60-c000.snappy.parquet\n",
      "2023-08-20 12:17:48   17867386 part-00014-99c4820d-f409-4cd1-a3b1-841bb9618b60-c000.snappy.parquet\n",
      "2023-08-20 12:17:47   15492138 part-00015-99c4820d-f409-4cd1-a3b1-841bb9618b60-c000.snappy.parquet\n",
      "2023-08-20 12:17:46   13916063 part-00016-99c4820d-f409-4cd1-a3b1-841bb9618b60-c000.snappy.parquet\n",
      "2023-08-20 12:17:47   14313790 part-00017-99c4820d-f409-4cd1-a3b1-841bb9618b60-c000.snappy.parquet\n",
      "2023-08-20 12:17:47   14151503 part-00018-99c4820d-f409-4cd1-a3b1-841bb9618b60-c000.snappy.parquet\n",
      "2023-08-20 12:17:46   13589359 part-00019-99c4820d-f409-4cd1-a3b1-841bb9618b60-c000.snappy.parquet\n",
      "2023-08-20 12:17:46   12279856 part-00020-99c4820d-f409-4cd1-a3b1-841bb9618b60-c000.snappy.parquet\n",
      "2023-08-20 12:17:46   12732484 part-00022-99c4820d-f409-4cd1-a3b1-841bb9618b60-c000.snappy.parquet\n",
      "2023-08-20 12:17:45   10459229 part-00023-99c4820d-f409-4cd1-a3b1-841bb9618b60-c000.snappy.parquet\n",
      "2023-08-20 12:17:45   11011064 part-00024-99c4820d-f409-4cd1-a3b1-841bb9618b60-c000.snappy.parquet\n",
      "2023-08-20 12:17:45   10465290 part-00027-99c4820d-f409-4cd1-a3b1-841bb9618b60-c000.snappy.parquet\n",
      "2023-08-20 12:17:45   10865272 part-00028-99c4820d-f409-4cd1-a3b1-841bb9618b60-c000.snappy.parquet\n",
      "2023-08-20 12:17:45   10304220 part-00029-99c4820d-f409-4cd1-a3b1-841bb9618b60-c000.snappy.parquet\n",
      "2023-08-20 12:17:45   10040515 part-00030-99c4820d-f409-4cd1-a3b1-841bb9618b60-c000.snappy.parquet\n",
      "2023-08-20 12:17:45    9879723 part-00031-99c4820d-f409-4cd1-a3b1-841bb9618b60-c000.snappy.parquet\n"
     ]
    }
   ],
   "source": [
    "%%sh\n",
    "\n",
    "aws s3 ls s3://gh-data-project/gold/ --profile itvgithub"
   ]
  },
  {
   "cell_type": "code",
   "execution_count": null,
   "id": "178c64e6-364c-445d-ad7a-70a9420d6320",
   "metadata": {},
   "outputs": [],
   "source": []
  }
 ],
 "metadata": {
  "kernelspec": {
   "display_name": "Python 3 (ipykernel)",
   "language": "python",
   "name": "python3"
  },
  "language_info": {
   "codemirror_mode": {
    "name": "ipython",
    "version": 3
   },
   "file_extension": ".py",
   "mimetype": "text/x-python",
   "name": "python",
   "nbconvert_exporter": "python",
   "pygments_lexer": "ipython3",
   "version": "3.10.6"
  }
 },
 "nbformat": 4,
 "nbformat_minor": 5
}
