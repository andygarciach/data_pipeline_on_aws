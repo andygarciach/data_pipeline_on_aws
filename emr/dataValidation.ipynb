{
 "cells": [
  {
   "cell_type": "code",
   "execution_count": 2,
   "id": "6e5ed99f-5a7f-46a0-b335-07bf33c35ec8",
   "metadata": {},
   "outputs": [
    {
     "ename": "ModuleNotFoundError",
     "evalue": "No module named 's3fs'",
     "output_type": "error",
     "traceback": [
      "\u001b[0;31m---------------------------------------------------------------------------\u001b[0m",
      "\u001b[0;31mModuleNotFoundError\u001b[0m                       Traceback (most recent call last)",
      "Cell \u001b[0;32mIn[2], line 4\u001b[0m\n\u001b[1;32m      2\u001b[0m \u001b[38;5;28;01mimport\u001b[39;00m \u001b[38;5;21;01mpyspark\u001b[39;00m\n\u001b[1;32m      3\u001b[0m \u001b[38;5;28;01mimport\u001b[39;00m \u001b[38;5;21;01mboto3\u001b[39;00m\n\u001b[0;32m----> 4\u001b[0m \u001b[38;5;28;01mimport\u001b[39;00m \u001b[38;5;21;01ms3fs\u001b[39;00m\n\u001b[1;32m      5\u001b[0m \u001b[38;5;28;01mimport\u001b[39;00m \u001b[38;5;21;01mpandas\u001b[39;00m\n\u001b[1;32m      6\u001b[0m \u001b[38;5;28;01mfrom\u001b[39;00m \u001b[38;5;21;01msubprocess\u001b[39;00m \u001b[38;5;28;01mimport\u001b[39;00m run \u001b[38;5;28;01mas\u001b[39;00m run_sh\n",
      "\u001b[0;31mModuleNotFoundError\u001b[0m: No module named 's3fs'"
     ]
    }
   ],
   "source": [
    "import os\n",
    "import pyspark\n",
    "import boto3\n",
    "import s3fs\n",
    "import pandas\n",
    "from subprocess import run as run_sh\n",
    "from pyspark.sql import SparkSession\n",
    "from pyspark.sql.functions import *\n",
    "from os import listdir\n",
    "from os.path import join as path_join"
   ]
  },
  {
   "cell_type": "code",
   "execution_count": null,
   "id": "0f366207-4378-499f-9e57-2f9f3959325a",
   "metadata": {},
   "outputs": [],
   "source": [
    "%%sh\n",
    "echo '#!/bin/sh' > credentials.sh\n",
    "saml2aws script >> credentials.sh\n",
    ". ./credentials.sh\n",
    "env | grep AWS"
   ]
  },
  {
   "cell_type": "code",
   "execution_count": null,
   "id": "45461118-5275-423b-be00-1e2d3d6da27c",
   "metadata": {},
   "outputs": [],
   "source": [
    "%%sh\n",
    "\n",
    "vi credentials.sh"
   ]
  },
  {
   "cell_type": "code",
   "execution_count": null,
   "id": "7e4da192-fb57-4911-92d4-74d57d511c15",
   "metadata": {},
   "outputs": [],
   "source": [
    "gen_tmp_sec_creds = run_sh([\"saml2aws\", \"script\"],capture_output=True)\n",
    "if gen_tmp_sec_creds.stderr != b'':\n",
    "   raise Exception(\"Found error when obtaining AWS \" +\n",
    "         \"credentials, they most be in the config.yaml \" +\n",
    "         \"file or saml2aws must be running.\" +\n",
    "         f\"\\nSAML2AWS error: {gen_tmp_sec_creds.stderr}\")\n",
    "access_key = os.environ[\"AWS_ACCESS_KEY_ID\"]\n",
    "secret_key = os.environ[\"AWS_SECRET_ACCESS_KEY\"]\n",
    "token = os.environ[\"AWS_SESSION_TOKEN\"]"
   ]
  },
  {
   "cell_type": "code",
   "execution_count": null,
   "id": "63725e2f-a953-458e-8ba9-1b52816df531",
   "metadata": {},
   "outputs": [],
   "source": [
    "os.environ.get"
   ]
  },
  {
   "cell_type": "code",
   "execution_count": null,
   "id": "c02ddedc-c746-4205-b590-4e680462d9d8",
   "metadata": {},
   "outputs": [],
   "source": [
    "print(access_key)\n",
    "print(secret_key)"
   ]
  },
  {
   "cell_type": "code",
   "execution_count": 1,
   "id": "0b588d44-f1d2-4175-ac37-c369e3db2a7e",
   "metadata": {},
   "outputs": [
    {
     "ename": "NameError",
     "evalue": "name 'path_join' is not defined",
     "output_type": "error",
     "traceback": [
      "\u001b[0;31m---------------------------------------------------------------------------\u001b[0m",
      "\u001b[0;31mNameError\u001b[0m                                 Traceback (most recent call last)",
      "Cell \u001b[0;32mIn[1], line 1\u001b[0m\n\u001b[0;32m----> 1\u001b[0m driver_jars_path \u001b[38;5;241m=\u001b[39m \u001b[43mpath_join\u001b[49m(\u001b[38;5;124m\"\u001b[39m\u001b[38;5;124m..\u001b[39m\u001b[38;5;124m\"\u001b[39m,\u001b[38;5;124m\"\u001b[39m\u001b[38;5;124m..\u001b[39m\u001b[38;5;124m\"\u001b[39m,\u001b[38;5;124m\"\u001b[39m\u001b[38;5;124mDevelopment\u001b[39m\u001b[38;5;124m\"\u001b[39m,\u001b[38;5;124m\"\u001b[39m\u001b[38;5;124mjar\u001b[39m\u001b[38;5;124m\"\u001b[39m)\n\u001b[1;32m      2\u001b[0m \u001b[38;5;28mprint\u001b[39m(driver_jars_path)\n\u001b[1;32m      3\u001b[0m all_jars \u001b[38;5;241m=\u001b[39m listdir(driver_jars_path)\n",
      "\u001b[0;31mNameError\u001b[0m: name 'path_join' is not defined"
     ]
    }
   ],
   "source": [
    "driver_jars_path = path_join(\"..\",\"..\",\"Development\",\"jar\")\n",
    "print(driver_jars_path)\n",
    "all_jars = listdir(driver_jars_path)\n",
    "print(all_jars)\n",
    "all_pathed_jars = [path_join(driver_jars_path, jar)\n",
    "                           for jar in all_jars]\n",
    "jars_paths = \",\".join(all_pathed_jars)"
   ]
  },
  {
   "cell_type": "code",
   "execution_count": null,
   "id": "dd53a515-8010-4ab1-b935-a8ef87e91dcc",
   "metadata": {},
   "outputs": [],
   "source": [
    "spark = SparkSession.builder.appName(\"Sensor Data Validation\").config('spark.jars', jars_paths) \\\n",
    "                .config('spark.jars.packages',\n",
    "                        'org.apache.hadoop:hadoop-aws:3.3.6') \\\n",
    "                .config(\n",
    "                    'spark.hadoop.fs.s3a.aws.credentials.provider',\n",
    "                    'org.apache.hadoop.fs.s3a.TemporaryAWSCredentialsProvider'\n",
    "                    ) \\\n",
    "                .config('spark.hadoop.fs.s3a.access.key', access_key) \\\n",
    "                .config('spark.hadoop.fs.s3a.secret.key', secret_key) \\\n",
    "                .config('spark.hadoop.fs.s3a.session.token', token).getOrCreate()"
   ]
  },
  {
   "cell_type": "code",
   "execution_count": null,
   "id": "c094b2c1-d839-40a4-9af6-ba48e2d00b6d",
   "metadata": {},
   "outputs": [],
   "source": [
    "dataXom = spark.read.option(\"header\",True).csv(\"s3a://322589048303-aa-xom-data-extracts-profiling/XTO_ENERGY_INC_MIDLAND_08_02_2023_21_48_43_247_Canada_Central/\")"
   ]
  },
  {
   "cell_type": "code",
   "execution_count": null,
   "id": "c7f164ff-d87f-48b3-8494-dcfb727ff38b",
   "metadata": {},
   "outputs": [],
   "source": [
    "dataXom.printSchema"
   ]
  },
  {
   "cell_type": "code",
   "execution_count": null,
   "id": "9bb454fc-3916-435a-9d01-cb50581e225b",
   "metadata": {},
   "outputs": [],
   "source": [
    "dataXom.count()"
   ]
  },
  {
   "cell_type": "code",
   "execution_count": null,
   "id": "aec4d03a-a4e8-4999-b53a-5ba5e595b52e",
   "metadata": {},
   "outputs": [],
   "source": []
  },
  {
   "cell_type": "code",
   "execution_count": null,
   "id": "2b1a5848-6b9a-443f-8e8e-303ae7805cb4",
   "metadata": {},
   "outputs": [],
   "source": [
    "data = spark.read.parquet(\"s3a://322589048303-us-east-1-leucipa-emr/PILOT_HUDI_v2/WELL_DEVICE_ESP/\")"
   ]
  },
  {
   "cell_type": "code",
   "execution_count": null,
   "id": "9bf3a1a6-546e-41ef-b56a-14192a1cb1eb",
   "metadata": {
    "scrolled": true
   },
   "outputs": [],
   "source": [
    "##data = spark.read.parquet(\"s3a://322589048303-us-east-1-leucipa-emr/PILOT_HUDI/WELL_DEVICE_ESP/\")"
   ]
  },
  {
   "cell_type": "code",
   "execution_count": null,
   "id": "251f57c3-29bb-44e9-83ec-392ef97e55a8",
   "metadata": {},
   "outputs": [],
   "source": [
    "data.printSchema()"
   ]
  },
  {
   "cell_type": "code",
   "execution_count": null,
   "id": "34732f51-19bc-462a-acb9-6a48f9df6a72",
   "metadata": {},
   "outputs": [],
   "source": [
    "data.count()"
   ]
  },
  {
   "cell_type": "code",
   "execution_count": null,
   "id": "24cb522b-2975-43da-b1bf-f3b2faff847a",
   "metadata": {},
   "outputs": [],
   "source": [
    "data.createOrReplaceTempView(\"sensor_data\")\n",
    "df = spark.sql(\"select tag_name_original, tag_name_og, tag_unit_og, tag_unit_original, count(1) from sensor_data group by tag_name_original, tag_name_og, tag_unit_og, tag_unit_original\")\n",
    "df.show(truncate=False)"
   ]
  },
  {
   "cell_type": "code",
   "execution_count": null,
   "id": "7459d365-43f7-40d4-93ab-c733d9926e0a",
   "metadata": {},
   "outputs": [],
   "source": [
    "df.write.csv(\"tag_names_units.counting\")"
   ]
  },
  {
   "cell_type": "code",
   "execution_count": null,
   "id": "b6e1f1dc-ded6-4c96-bb5b-8bba6c8ea257",
   "metadata": {},
   "outputs": [],
   "source": [
    "data."
   ]
  },
  {
   "cell_type": "code",
   "execution_count": null,
   "id": "113d1d41-0a18-4865-9f48-b54ae818df3f",
   "metadata": {},
   "outputs": [],
   "source": [
    "dfone = data.withColumn(\"date\",to_date(\"record_dt_utc\")).withColumn(\"time\",date_format(\"record_dt_utc\",\"HH:mm:ss\")).where(\"_hoodie_file_name=='16f2b327-7fe5-442e-ab4f-6d7363b00df5-0_47-18-2363_20230712074229438.parquet'\") \n",
    "df1 = dfone.groupBy(\"apinumber\",\"date\",\"time\").pivot(\"tag_name_original\").agg({\"tag_value_original\":\"first\"})"
   ]
  },
  {
   "cell_type": "code",
   "execution_count": null,
   "id": "6b8c5164-61a0-453e-b5ed-fbded2865da9",
   "metadata": {},
   "outputs": [],
   "source": [
    "df1.filter(\"apinumber==3002546655 and date=='2022-11-01' and time=='19:03:46'\").show()"
   ]
  },
  {
   "cell_type": "code",
   "execution_count": null,
   "id": "88824ebd-9d98-400a-a2bb-4a94132aacc3",
   "metadata": {},
   "outputs": [],
   "source": [
    "dfone.printSchema()"
   ]
  },
  {
   "cell_type": "code",
   "execution_count": null,
   "id": "48faad2e-dcd3-48c7-b4f6-bfc4bd6f8602",
   "metadata": {},
   "outputs": [],
   "source": [
    "dfone.createOrReplaceTempView(\"temporal\")"
   ]
  },
  {
   "cell_type": "code",
   "execution_count": null,
   "id": "2e03a3e9-02fc-4ef9-b96c-81c0e394544b",
   "metadata": {},
   "outputs": [],
   "source": [
    "dfonediff = spark.sql(\"select apinumber,date,time,count(distinct tag_name_original) as q from temporal group by apinumber,date,time having count(distinct tag_name_original)>2\")"
   ]
  },
  {
   "cell_type": "code",
   "execution_count": null,
   "id": "a6bc0565-0b1c-41bc-91af-4863b2c043d8",
   "metadata": {},
   "outputs": [],
   "source": [
    "dfonediff.show(truncate=False)"
   ]
  },
  {
   "cell_type": "code",
   "execution_count": null,
   "id": "f00b0e8f-08cb-43cb-8e24-b90022c9b839",
   "metadata": {},
   "outputs": [],
   "source": [
    "df2 = data.groupBy(\"_hoodie_file_name\").count()\n",
    "df2.show(truncate=False)"
   ]
  },
  {
   "cell_type": "code",
   "execution_count": null,
   "id": "02a6f23d-a035-484a-95e3-764ceec7c1c1",
   "metadata": {},
   "outputs": [],
   "source": [
    "df2 = data.groupBy(\"apinumber\").count()\n",
    "df2.show(truncate=False)"
   ]
  },
  {
   "cell_type": "code",
   "execution_count": null,
   "id": "0e2e03ad-0832-492d-86ea-d1b8cd1649c9",
   "metadata": {},
   "outputs": [],
   "source": [
    "df1.printSchema()"
   ]
  },
  {
   "cell_type": "code",
   "execution_count": null,
   "id": "d10f0f0b-8522-4141-bf3e-6c3b84727236",
   "metadata": {},
   "outputs": [],
   "source": [
    "dfResult = df1.na.fill(-9999)"
   ]
  },
  {
   "cell_type": "code",
   "execution_count": null,
   "id": "5499ac76-9866-43a4-96b0-a9873f809612",
   "metadata": {},
   "outputs": [],
   "source": [
    "dfResult.count()"
   ]
  },
  {
   "cell_type": "code",
   "execution_count": null,
   "id": "8bd390e2-f223-4486-bc67-33882636b346",
   "metadata": {},
   "outputs": [],
   "source": [
    "dfResult.head()"
   ]
  },
  {
   "cell_type": "code",
   "execution_count": null,
   "id": "49ceee94-8174-477a-b892-ef94ae403b01",
   "metadata": {},
   "outputs": [],
   "source": [
    "dfone.count()"
   ]
  },
  {
   "cell_type": "code",
   "execution_count": null,
   "id": "206f23c4-d40f-4aca-801e-77919bc0bcc6",
   "metadata": {},
   "outputs": [],
   "source": [
    "dfResult.show(truncate=False)"
   ]
  },
  {
   "cell_type": "code",
   "execution_count": null,
   "id": "19bc7e10-c6b4-42b9-b7ed-ee4600d30aa1",
   "metadata": {},
   "outputs": [],
   "source": [
    "dfResult.where(\"apinumber==3002546655\").show(truncate=False)"
   ]
  },
  {
   "cell_type": "code",
   "execution_count": null,
   "id": "9aff66fa-8e95-42d3-a793-8fe9ed916903",
   "metadata": {},
   "outputs": [],
   "source": [
    "dfResult.groupBy(\"apinumber\",\"record_dt_utc\").count().show(truncate=False)"
   ]
  },
  {
   "cell_type": "code",
   "execution_count": null,
   "id": "80f2183a-be0a-4cb7-9577-f565f5c64bb1",
   "metadata": {},
   "outputs": [],
   "source": [
    "dfCatalog = spark.read.parquet(\"s3a://322589048303-pre-prod-xom-esp-data/refined/well_catalog/\")"
   ]
  },
  {
   "cell_type": "code",
   "execution_count": null,
   "id": "c6e4c1b8-5f91-4946-b79f-7e3891378fa5",
   "metadata": {},
   "outputs": [],
   "source": [
    "dfCatalog.count()"
   ]
  },
  {
   "cell_type": "code",
   "execution_count": null,
   "id": "5116c191-19e2-40f4-a416-cc2fcb1cf803",
   "metadata": {},
   "outputs": [],
   "source": [
    "dfCatalog.printSchema()"
   ]
  },
  {
   "cell_type": "code",
   "execution_count": null,
   "id": "f2e09da2-3067-4483-b377-06517df55779",
   "metadata": {},
   "outputs": [],
   "source": [
    "dfCatalog.show()"
   ]
  },
  {
   "cell_type": "code",
   "execution_count": null,
   "id": "72b1ba7d-c0a8-4ccb-b7ce-f65c45b08e9c",
   "metadata": {},
   "outputs": [],
   "source": [
    "dfCat = dfCatalog.withColumn(\"TimeStamp\",current_timestamp())"
   ]
  },
  {
   "cell_type": "code",
   "execution_count": null,
   "id": "2c29f9dc-933b-4e26-86a5-cbdb3e3986a6",
   "metadata": {},
   "outputs": [],
   "source": [
    "dfCat.printSchema()"
   ]
  },
  {
   "cell_type": "code",
   "execution_count": null,
   "id": "2eed0d77-3694-4045-a2f6-fb25f5c8581d",
   "metadata": {},
   "outputs": [],
   "source": [
    "dfCat.show()"
   ]
  },
  {
   "cell_type": "code",
   "execution_count": null,
   "id": "32ff2f1d-eb6f-40aa-8896-f8ec2620bfa1",
   "metadata": {},
   "outputs": [],
   "source": [
    "dfCat.count()"
   ]
  },
  {
   "cell_type": "code",
   "execution_count": null,
   "id": "520fd3a3-e421-4306-9661-9dc0d3585997",
   "metadata": {},
   "outputs": [],
   "source": [
    "from pyspark.sql.window import Window\n",
    "from pyspark.sql.functions import row_number"
   ]
  },
  {
   "cell_type": "code",
   "execution_count": null,
   "id": "8c4ba702-b484-4690-90fc-c53750a8e0ce",
   "metadata": {},
   "outputs": [],
   "source": [
    "WindowSpec = Window.partitionBy(\"TimeStamp\").orderBy(\"DeviceID\")\n",
    "dfWell = dfCat.withColumn(\"WellInternalID\",row_number().over(WindowSpec)) \\\n",
    ".withColumn(\"WellScanEnabled\", expr(\"cast(1 as integer)\")) \\\n",
    ".withColumn(\"WellMonitorEnabled\", expr(\"cast(1 as integer)\")) \\\n",
    ".withColumn(\"WellSCADA_Freq_Ms\" , expr(\"cast(1200000 as integer)\")) \\\n",
    ".withColumn(\"WellDeadTimeFactor\" , expr(\"cast(3 as integer)\")) \\\n",
    ".withColumn(\"WellAlarmEmailInterval_Min\" , expr(\"cast(20 as integer)\")) \\\n",
    ".withColumn(\"WellBackScanMin\" , expr(\"cast (60 as integer)\")) \\\n",
    ".withColumn(\"WellAutoMatchEnabled\" , expr(\"cast(1 as integer)\")) \\\n",
    ".withColumn(\"WellScadaDataSource\" , expr(\"cast(2 as integer)\")) \\\n",
    ".withColumn(\"WellSAPWellNumber\" , expr(\"'Leucipa Hierarchy'\"))  \\\n",
    ".withColumn(\"WellAPIWellNumber\" , expr(\"'Leucipa Hierarchy'\")) \\\n",
    ".withColumn(\"WellMAPSRefNumber\", expr(\"'Leucipa Hierarchy'\")) \\\n",
    ".withColumn(\"WellNotAdjustHLBasedOAPCModel\", expr(\"cast(null as integer)\")) \\\n",
    ".withColumn(\"Well247Enabled\", expr(\"cast(null as integer)\")) \\\n",
    ".withColumn(\"WellInactive\", expr(\"cast(null as integer)\")) \\\n",
    ".withColumn(\"WellAutoTask\", expr(\"cast(1 as integer)\")) \\\n",
    ".withColumn(\"WellMultiWellOpt\", expr(\"cast(1 as integer)\")) \\\n",
    ".withColumn(\"WellUID\" , expr(\"'' as WellUID\"))"
   ]
  },
  {
   "cell_type": "code",
   "execution_count": null,
   "id": "ff3c3717-5b82-43e5-aad0-c5e7cf6f4d7d",
   "metadata": {},
   "outputs": [],
   "source": [
    "dfWell.printSchema()"
   ]
  },
  {
   "cell_type": "code",
   "execution_count": null,
   "id": "48536cc4-90c4-4e29-ae86-b31e8d2f2400",
   "metadata": {},
   "outputs": [],
   "source": [
    "dfWellSQL = spark.read.format(\"jdbc\") \\\n",
    ".option(\"url\", \"jdbc:sqlserver://bhicladev01.ent.bhicorp.com:50900;databaseName=EspExpert;encrypt=true;trustServerCertificate=true\") \\\n",
    ".option(\"driver\", \"com.microsoft.sqlserver.jdbc.SQLServerDriver\") \\\n",
    ".option(\"dbtable\", \"tblWellCopy\") \\\n",
    ".option(\"user\", \"EspExpert\") \\\n",
    ".option(\"password\", \"espexpert321\") \\\n",
    ".load()"
   ]
  },
  {
   "cell_type": "code",
   "execution_count": null,
   "id": "1de62e92-6614-48ab-a2a6-9c65f4101fc8",
   "metadata": {},
   "outputs": [],
   "source": [
    "dfWellSqlMaxID = dfWellSQL.agg(max(\"WellInternalWellID\"))\n",
    "MaxID = dfWellSqlMaxID.rdd.map(lambda x: x).collect()[0][0]"
   ]
  },
  {
   "cell_type": "code",
   "execution_count": null,
   "id": "5721f2e5-da45-423e-939e-c0e66396affc",
   "metadata": {},
   "outputs": [],
   "source": [
    "dfWellStep2 = dfWell.withColumn(\"WellInternalWellID\",expr(f\"WellInternalID + {MaxID}\"))"
   ]
  },
  {
   "cell_type": "code",
   "execution_count": null,
   "id": "78a2842f-0ab4-467b-8611-3b6dfd89e29c",
   "metadata": {},
   "outputs": [],
   "source": [
    "dfWellCopy = dfWellStep2.select(col(\"WellID\").alias(\"WellExternalWellID\") \\\n",
    "              ,\"WellName\" \\\n",
    "              ,col(\"FieldName\").alias(\"WellFieldName\") \\\n",
    "              ,col(\"CustomerName\").alias(\"WellCustomerName\") \\\n",
    "              ,\"WellSCADA_Freq_Ms\" \\\n",
    "              ,\"WellScanEnabled\" \\\n",
    "              ,\"WellMonitorEnabled\" \\\n",
    "              ,\"WellDeadTimeFactor\" \\\n",
    "              ,\"WellAlarmEmailInterval_Min\" \\\n",
    "              ,col(\"FieldID\").alias(\"WellFieldID\") \\\n",
    "              ,col(\"CustomerID\").alias(\"WellCustomerID\") \\\n",
    "              ,\"WellBackScanMIN\" \\\n",
    "              ,\"WellAutoMatchEnabled\" \\\n",
    "              ,\"WellNotAdjustHLBasedOAPCModel\" \\\n",
    "              ,\"WellScadaDataSource\" \\\n",
    "              ,\"WellSAPWellNumber\" \\\n",
    "              ,\"WellAPIWellNumber\" \\\n",
    "              ,\"WellMAPSRefNumber\" \\\n",
    "              ,\"Well247Enabled\" \\\n",
    "              ,\"WellInactive\" \\\n",
    "              ,\"WellAutoTask\" \\\n",
    "              ,\"WellMultiWellOpt\" \\\n",
    "              ,\"WellUID\" \\\n",
    "              ,col(\"DeviceID\").alias(\"WellDeviceID\") \\\n",
    "              ,col(\"DeviceDisplayName\").alias(\"WellDeviceDisplayName\"))"
   ]
  },
  {
   "cell_type": "code",
   "execution_count": null,
   "id": "7b9ad4bc-89bc-4f9d-83f8-9829245224b2",
   "metadata": {},
   "outputs": [],
   "source": [
    "dfWellCopy.printSchema()"
   ]
  },
  {
   "cell_type": "code",
   "execution_count": null,
   "id": "42bbecf1-8f6a-4a2a-9f04-7c1f6f942a6e",
   "metadata": {},
   "outputs": [],
   "source": [
    "dfWellCopy.show()"
   ]
  },
  {
   "cell_type": "code",
   "execution_count": null,
   "id": "ffe976a7-42b8-4837-b458-127901dad5c5",
   "metadata": {},
   "outputs": [],
   "source": [
    "dfWellCopy.write.format(\"jdbc\") \\\n",
    ".mode(\"append\") \\\n",
    ".option(\"url\", \"jdbc:sqlserver://bhicladev01.ent.bhicorp.com:50900;databaseName=EspExpert;encrypt=true;trustServerCertificate=true\") \\\n",
    ".option(\"driver\", \"com.microsoft.sqlserver.jdbc.SQLServerDriver\") \\\n",
    ".option(\"dbtable\", \"tblWellCopy\") \\\n",
    ".option(\"user\", \"EspExpert\") \\\n",
    ".option(\"password\", \"espexpert321\") \\\n",
    ".save()"
   ]
  },
  {
   "cell_type": "code",
   "execution_count": null,
   "id": "ffb92c9a-2ca2-42b2-85be-ac4922197493",
   "metadata": {},
   "outputs": [],
   "source": [
    "dfWellSQL.count()"
   ]
  },
  {
   "cell_type": "code",
   "execution_count": null,
   "id": "3b6e3477-e236-49fb-9de4-ae76cf0bcf04",
   "metadata": {},
   "outputs": [],
   "source": [
    "dfWellSQL.printSchema()"
   ]
  },
  {
   "cell_type": "code",
   "execution_count": null,
   "id": "44cb82d4-08ef-4864-af0d-26e37d4b4915",
   "metadata": {},
   "outputs": [],
   "source": [
    "dfSensor = data.alias(\"a\").join(dfWellSQL.alias(\"b\"), col(\"a.pump_id\") == col(\"b.WellDeviceID\"), \"left\").select(\"a.*\",col(\"WellInternalWellID\"))"
   ]
  },
  {
   "cell_type": "code",
   "execution_count": null,
   "id": "6460a0f5-ca35-42ac-83f8-48ef0009940a",
   "metadata": {},
   "outputs": [],
   "source": [
    "dfSensor.printSchema()"
   ]
  },
  {
   "cell_type": "code",
   "execution_count": null,
   "id": "0496d580-3b2b-4fb6-84be-c7be9d5dc2e4",
   "metadata": {},
   "outputs": [],
   "source": [
    "dfSensor.count()"
   ]
  },
  {
   "cell_type": "code",
   "execution_count": null,
   "id": "ea24763b-8611-4d84-a509-ee8299897773",
   "metadata": {},
   "outputs": [],
   "source": [
    "dfone = dfSensor.withColumn(\"date\",to_date(\"record_dt_utc\")).withColumn(\"time\",date_format(\"record_dt_utc\",\"HH:mm:ss\"))##.where(\"_hoodie_file_name=='16f2b327-7fe5-442e-ab4f-6d7363b00df5-0_47-18-2363_20230712074229438.parquet'\") \n",
    "dfPSensor = dfone.groupBy(\"WellInternalWellID\",\"date\",\"time\").pivot(\"tag_name_original\").agg({\"tag_value_original\":\"first\"})"
   ]
  },
  {
   "cell_type": "code",
   "execution_count": null,
   "id": "6dc2d9f5-03c5-44c7-a3e1-6fa34cd5b0f2",
   "metadata": {},
   "outputs": [],
   "source": [
    "dfPSensor.show(truncate=False)"
   ]
  },
  {
   "cell_type": "code",
   "execution_count": null,
   "id": "39d8f15b-508d-481f-9fd3-b47bbaa0ad1c",
   "metadata": {},
   "outputs": [],
   "source": [
    "dfSensor.groupBy(\"pump_id\",\"WellInternalWellID\").count().show(truncate=False)"
   ]
  },
  {
   "cell_type": "code",
   "execution_count": null,
   "id": "2d88d8cc-dbc5-4993-8e4d-ea94d73d1800",
   "metadata": {},
   "outputs": [],
   "source": []
  }
 ],
 "metadata": {
  "kernelspec": {
   "display_name": "Python 3 (ipykernel)",
   "language": "python",
   "name": "python3"
  },
  "language_info": {
   "codemirror_mode": {
    "name": "ipython",
    "version": 3
   },
   "file_extension": ".py",
   "mimetype": "text/x-python",
   "name": "python",
   "nbconvert_exporter": "python",
   "pygments_lexer": "ipython3",
   "version": "3.10.6"
  }
 },
 "nbformat": 4,
 "nbformat_minor": 5
}
